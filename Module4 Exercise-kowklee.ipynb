{
 "cells": [
  {
   "cell_type": "markdown",
   "metadata": {},
   "source": [
    "### Module 4 Exercise"
   ]
  },
  {
   "cell_type": "markdown",
   "metadata": {},
   "source": [
    "1. How many occurences of \"row\" is in \"Row, row, row your boat. Gently down the stream. Merrily, merrily, merrily, merrily. Life is but a dream. Row, row, row your boat. Gently up the creek.\" "
   ]
  },
  {
   "cell_type": "code",
   "execution_count": 1,
   "metadata": {},
   "outputs": [
    {
     "name": "stdout",
     "output_type": "stream",
     "text": [
      "There are 4 occurences of \"row\"\n"
     ]
    }
   ],
   "source": [
    "message =\"Row, row, row your boat. Gently down the stream. Merrily, merrily, merrily, merrily. Life is but a dream. Row, row, row your boat. Gently up the creek.\"\n",
    "occurences = message.count('row')\n",
    "print(\"There are\", occurences, 'occurences of \"row\"')"
   ]
  },
  {
   "cell_type": "markdown",
   "metadata": {},
   "source": [
    "2. Ask a user for a name, color, and an animal.  <br>\n",
    "Then using string format method per each line, show following:<br>\n",
    "<b><i>name</i></b> had a little <b><i>animal</i></b>. <br>\n",
    "It was <b><i>color</i></b> as snow. <br>\n",
    "And everywhere that <b><i>name</i></b> went, the <b><i>animal</i></b> was sure to go."
   ]
  },
  {
   "cell_type": "code",
   "execution_count": 2,
   "metadata": {},
   "outputs": [
    {
     "name": "stdout",
     "output_type": "stream",
     "text": [
      "What is your name? Ken\n",
      "What is the color? white\n",
      "What animal is this? tiger\n",
      "Ken had a little tiger\n",
      "It was white as snow\n",
      "And everywhere that Ken went, the tiger was sure to go\n"
     ]
    }
   ],
   "source": [
    "name=input(\"What is your name? \")\n",
    "color=input(\"What is the color? \")\n",
    "animal=input(\"What animal is this? \")\n",
    "string1=name + \" had a little \" + animal\n",
    "string2=\"It was \" +color+ \" as snow\"\n",
    "string3= \"And everywhere that \"+name+\" went, the \"+animal+ \" was sure to go\"\n",
    "print(string1)\n",
    "print(string2)\n",
    "print(string3)"
   ]
  },
  {
   "cell_type": "markdown",
   "metadata": {},
   "source": [
    "3. Print 3.14159 in a scientific number notation "
   ]
  },
  {
   "cell_type": "code",
   "execution_count": 3,
   "metadata": {},
   "outputs": [
    {
     "name": "stdout",
     "output_type": "stream",
     "text": [
      "3.14159 in scientific notation is 3.141590e+00\n"
     ]
    }
   ],
   "source": [
    "pi=3.14159\n",
    "print(f\"3.14159 in scientific notation is {pi:e}\")"
   ]
  },
  {
   "cell_type": "markdown",
   "metadata": {},
   "source": [
    "4. Print 3.1559 in 3 decimal places"
   ]
  },
  {
   "cell_type": "code",
   "execution_count": 4,
   "metadata": {},
   "outputs": [
    {
     "name": "stdout",
     "output_type": "stream",
     "text": [
      "3.1559 in 3 decimal places is 3.156\n"
     ]
    }
   ],
   "source": [
    "pi=3.1559\n",
    "print(f\"3.1559 in 3 decimal places is {pi:.3f}\")"
   ]
  },
  {
   "cell_type": "markdown",
   "metadata": {},
   "source": [
    "5. Print 1589.92341 in a scientific number notation to the power of 3"
   ]
  },
  {
   "cell_type": "code",
   "execution_count": 5,
   "metadata": {},
   "outputs": [
    {
     "name": "stdout",
     "output_type": "stream",
     "text": [
      "1598.92341 in scientific number notation is 1.589923e+03\n"
     ]
    }
   ],
   "source": [
    "no=1589.92341\n",
    "print(f\"1598.92341 in scientific number notation is {no:e}\")"
   ]
  },
  {
   "cell_type": "markdown",
   "metadata": {},
   "source": [
    "6. Convert 39 to a binary number using floor division and mod operators. Then, compare your answer using bin() and int() functions."
   ]
  },
  {
   "cell_type": "code",
   "execution_count": 6,
   "metadata": {},
   "outputs": [
    {
     "name": "stdout",
     "output_type": "stream",
     "text": [
      "quotient: 19 , bin:  1\n"
     ]
    }
   ],
   "source": [
    "no=39\n",
    "remain= no%2\n",
    "no=no//2\n",
    "binstring=str(remain)\n",
    "print('quotient:', no, ', bin: ', binstring)\n",
    "# continue until quotient is 0"
   ]
  },
  {
   "cell_type": "code",
   "execution_count": 7,
   "metadata": {},
   "outputs": [
    {
     "name": "stdout",
     "output_type": "stream",
     "text": [
      "quotient: 9 , bin:  11\n"
     ]
    }
   ],
   "source": [
    "remain= no%2\n",
    "no=no//2\n",
    "binstring=str(remain)+ binstring\n",
    "print('quotient:', no, ', bin: ', binstring)\n",
    "# continue until quotient is 0"
   ]
  },
  {
   "cell_type": "code",
   "execution_count": 8,
   "metadata": {},
   "outputs": [
    {
     "name": "stdout",
     "output_type": "stream",
     "text": [
      "quotient: 4 , bin:  111\n"
     ]
    }
   ],
   "source": [
    "remain= no%2\n",
    "no=no//2\n",
    "binstring=str(remain)+ binstring\n",
    "print('quotient:', no, ', bin: ', binstring)\n",
    "# continue until quotient is 0"
   ]
  },
  {
   "cell_type": "code",
   "execution_count": 9,
   "metadata": {},
   "outputs": [
    {
     "name": "stdout",
     "output_type": "stream",
     "text": [
      "quotient: 2 , bin:  0111\n"
     ]
    }
   ],
   "source": [
    "remain= no%2\n",
    "no=no//2\n",
    "binstring=str(remain)+binstring\n",
    "print('quotient:', no, ', bin: ', binstring)\n",
    "# continue until quotient is 0"
   ]
  },
  {
   "cell_type": "code",
   "execution_count": 10,
   "metadata": {},
   "outputs": [
    {
     "name": "stdout",
     "output_type": "stream",
     "text": [
      "quotient: 1 , bin:  00111\n"
     ]
    }
   ],
   "source": [
    "remain= no%2\n",
    "no=no//2\n",
    "binstring=str(remain)+binstring\n",
    "print('quotient:', no, ', bin: ', binstring)\n",
    "# continue until quotient is 0"
   ]
  },
  {
   "cell_type": "code",
   "execution_count": 11,
   "metadata": {},
   "outputs": [
    {
     "name": "stdout",
     "output_type": "stream",
     "text": [
      "quotient: 0 , bin:  100111\n"
     ]
    }
   ],
   "source": [
    "remain= no%2\n",
    "no=no//2\n",
    "binstring=str(remain)+binstring\n",
    "print('quotient:', no, ', bin: ', binstring)\n",
    "# continue until quotient is 0"
   ]
  },
  {
   "cell_type": "code",
   "execution_count": 12,
   "metadata": {},
   "outputs": [
    {
     "name": "stdout",
     "output_type": "stream",
     "text": [
      "0b100111\n"
     ]
    }
   ],
   "source": [
    "# using python built-in function bin\n",
    "binstring=bin(39)\n",
    "print(binstring)"
   ]
  },
  {
   "cell_type": "code",
   "execution_count": 13,
   "metadata": {},
   "outputs": [
    {
     "data": {
      "text/plain": [
       "39"
      ]
     },
     "execution_count": 13,
     "metadata": {},
     "output_type": "execute_result"
    }
   ],
   "source": [
    "## convert it back to integer\n",
    "int(binstring,2)"
   ]
  },
  {
   "cell_type": "markdown",
   "metadata": {},
   "source": [
    "7. Convert 39 to an octal number using floor division and mod operators. Then, compare your answer using oct() and int() functions."
   ]
  },
  {
   "cell_type": "code",
   "execution_count": 14,
   "metadata": {},
   "outputs": [
    {
     "name": "stdout",
     "output_type": "stream",
     "text": [
      "quotient: 4 , oct:  7\n"
     ]
    }
   ],
   "source": [
    "no=39\n",
    "remain= no%8\n",
    "no=no//8\n",
    "octstring=str(remain)\n",
    "print('quotient:', no,', oct: ', octstring)\n",
    "# continue until quotient is 0"
   ]
  },
  {
   "cell_type": "code",
   "execution_count": 15,
   "metadata": {},
   "outputs": [
    {
     "name": "stdout",
     "output_type": "stream",
     "text": [
      "quotient: 0 , oct:  47\n"
     ]
    }
   ],
   "source": [
    "remain= no%8\n",
    "no=no//8\n",
    "octstring=str(remain)+ octstring\n",
    "print('quotient:', no, ', oct: ', octstring)\n",
    "# continue until quotient is 0"
   ]
  },
  {
   "cell_type": "code",
   "execution_count": 16,
   "metadata": {},
   "outputs": [
    {
     "name": "stdout",
     "output_type": "stream",
     "text": [
      "0o47\n"
     ]
    }
   ],
   "source": [
    "# using python built-in function oct\n",
    "octstring=oct(39)\n",
    "print(octstring)"
   ]
  },
  {
   "cell_type": "code",
   "execution_count": 17,
   "metadata": {},
   "outputs": [
    {
     "data": {
      "text/plain": [
       "39"
      ]
     },
     "execution_count": 17,
     "metadata": {},
     "output_type": "execute_result"
    }
   ],
   "source": [
    "## convert it back to integer\n",
    "int(octstring,8)"
   ]
  },
  {
   "cell_type": "markdown",
   "metadata": {},
   "source": [
    "8. Convert 39 to a hexadecimal number using floor division and mod operators. Then, compare your answer using hex() and int() functions."
   ]
  },
  {
   "cell_type": "code",
   "execution_count": 18,
   "metadata": {},
   "outputs": [
    {
     "name": "stdout",
     "output_type": "stream",
     "text": [
      "quotient: 2 , hex:  7\n"
     ]
    }
   ],
   "source": [
    "no=39\n",
    "remain= no%16\n",
    "no=no//16\n",
    "hexstring=str(remain)\n",
    "print('quotient:', no,', hex: ', hexstring)\n",
    "# continue until quotient is 0"
   ]
  },
  {
   "cell_type": "code",
   "execution_count": 19,
   "metadata": {},
   "outputs": [
    {
     "name": "stdout",
     "output_type": "stream",
     "text": [
      "quotient:  0 , hex:  27\n"
     ]
    }
   ],
   "source": [
    "remain= no%16\n",
    "no=no//16\n",
    "hexstring=str(remain)+ hexstring\n",
    "print('quotient: ', no, ', hex: ', hexstring)\n",
    "# continue until quotient is 0"
   ]
  },
  {
   "cell_type": "code",
   "execution_count": 20,
   "metadata": {},
   "outputs": [
    {
     "name": "stdout",
     "output_type": "stream",
     "text": [
      "0x27\n"
     ]
    }
   ],
   "source": [
    "# using python built-in function hex\n",
    "hexstring=hex(39)\n",
    "print(hexstring)"
   ]
  },
  {
   "cell_type": "code",
   "execution_count": 21,
   "metadata": {},
   "outputs": [
    {
     "data": {
      "text/plain": [
       "39"
      ]
     },
     "execution_count": 21,
     "metadata": {},
     "output_type": "execute_result"
    }
   ],
   "source": [
    "## convert it back to integer\n",
    "int(hexstring,16)"
   ]
  },
  {
   "cell_type": "markdown",
   "metadata": {},
   "source": [
    "9. Ask a user for an amount and a tax rate in percentage. Then, display the amount, rate in percentage, calculated tax amount, and the total (amount + tax amount) in one <b>nice</b> formmated print statement."
   ]
  },
  {
   "cell_type": "code",
   "execution_count": 25,
   "metadata": {},
   "outputs": [
    {
     "name": "stdout",
     "output_type": "stream",
     "text": [
      "Please enter amount: 123.45\n",
      "Please enter tax rate in percentage: 6.7\n",
      "Amount is 123.45, tax rate is 6.7%, tax is $8.27, total is $131.72\n"
     ]
    }
   ],
   "source": [
    "amount=float(input(\"Please enter amount: \"))\n",
    "taxrate=float(input(\"Please enter tax rate in percentage: \"))\n",
    "tax=amount * taxrate/100\n",
    "total=amount + tax\n",
    "print(f'Amount is {amount:.2f}, tax rate is {taxrate:.1f}%, tax is ${tax:.2f}, total is ${total:.2f}')"
   ]
  },
  {
   "cell_type": "code",
   "execution_count": null,
   "metadata": {},
   "outputs": [],
   "source": []
  }
 ],
 "metadata": {
  "kernelspec": {
   "display_name": "Python 3",
   "language": "python",
   "name": "python3"
  },
  "language_info": {
   "codemirror_mode": {
    "name": "ipython",
    "version": 3
   },
   "file_extension": ".py",
   "mimetype": "text/x-python",
   "name": "python",
   "nbconvert_exporter": "python",
   "pygments_lexer": "ipython3",
   "version": "3.7.6"
  }
 },
 "nbformat": 4,
 "nbformat_minor": 4
}
